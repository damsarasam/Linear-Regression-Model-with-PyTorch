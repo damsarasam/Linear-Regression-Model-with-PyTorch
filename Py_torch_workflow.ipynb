{
  "nbformat": 4,
  "nbformat_minor": 0,
  "metadata": {
    "colab": {
      "provenance": []
    },
    "kernelspec": {
      "name": "python3",
      "display_name": "Python 3"
    },
    "language_info": {
      "name": "python"
    }
  },
  "cells": [
    {
      "cell_type": "markdown",
      "source": [
        "## Import libraries"
      ],
      "metadata": {
        "id": "m8ZhcG6Tvn7N"
      }
    },
    {
      "cell_type": "code",
      "execution_count": null,
      "metadata": {
        "id": "kUD6V25BvVnX"
      },
      "outputs": [],
      "source": [
        "import torch\n",
        "from torch import nn\n",
        "import matplotlib.pyplot as plt"
      ]
    },
    {
      "cell_type": "markdown",
      "source": [
        "## Set dataset"
      ],
      "metadata": {
        "id": "LcqbXrS2v-yf"
      }
    },
    {
      "cell_type": "code",
      "source": [
        "weight = 0.7\n",
        "bias = 0.3\n",
        "\n",
        "#create data\n",
        "start = 0\n",
        "end = 1\n",
        "step = 0.02\n",
        "\n",
        "X= torch.arange(start,end,step).unsqueeze(dim=1)\n",
        "y= weight * X + bias\n",
        "\n",
        "X[:10], y[:10]"
      ],
      "metadata": {
        "colab": {
          "base_uri": "https://localhost:8080/"
        },
        "id": "MVlyN6GgvsGq",
        "outputId": "3f2ae7a2-8be5-4148-ea41-8485c13a1d37"
      },
      "execution_count": null,
      "outputs": [
        {
          "output_type": "execute_result",
          "data": {
            "text/plain": [
              "(tensor([[0.0000],\n",
              "         [0.0200],\n",
              "         [0.0400],\n",
              "         [0.0600],\n",
              "         [0.0800],\n",
              "         [0.1000],\n",
              "         [0.1200],\n",
              "         [0.1400],\n",
              "         [0.1600],\n",
              "         [0.1800]]),\n",
              " tensor([[0.3000],\n",
              "         [0.3140],\n",
              "         [0.3280],\n",
              "         [0.3420],\n",
              "         [0.3560],\n",
              "         [0.3700],\n",
              "         [0.3840],\n",
              "         [0.3980],\n",
              "         [0.4120],\n",
              "         [0.4260]]))"
            ]
          },
          "metadata": {},
          "execution_count": 135
        }
      ]
    },
    {
      "cell_type": "markdown",
      "source": [
        "## Split data"
      ],
      "metadata": {
        "id": "tzXQF0Dlxf7v"
      }
    },
    {
      "cell_type": "code",
      "source": [
        "# create train/test split\n",
        "train_split = int (0.8 * len(X))\n",
        "X_train, y_train = X[:train_split], y[:train_split]\n",
        "X_test, y_test = X[train_split:], y[train_split:]\n",
        "\n",
        "len(X_train), len(y_train), len(X_test), len(y_test)"
      ],
      "metadata": {
        "colab": {
          "base_uri": "https://localhost:8080/"
        },
        "id": "hXGmihDYwxec",
        "outputId": "22aed96f-3cd7-452f-d336-6bb7e6810607"
      },
      "execution_count": null,
      "outputs": [
        {
          "output_type": "execute_result",
          "data": {
            "text/plain": [
              "(40, 40, 10, 10)"
            ]
          },
          "metadata": {},
          "execution_count": 136
        }
      ]
    },
    {
      "cell_type": "markdown",
      "source": [
        "## Visualize data"
      ],
      "metadata": {
        "id": "19yTmICPydch"
      }
    },
    {
      "cell_type": "code",
      "source": [
        "def plot_prediction(train_data = X_train,\n",
        "                    train_labels = y_train,\n",
        "                    test_data = X_test,\n",
        "                    test_labels = y_test,\n",
        "                    prediction=None):\n",
        "\n",
        "#plot training data, test data and compares predictions\n",
        "  plt.figure(figsize=(10,7))\n",
        "\n",
        "#plot training data in blue\n",
        "  plt.scatter(train_data, train_labels, c='b', s=4, label='Training data')\n",
        "\n",
        "#plot test data in green\n",
        "  plt.scatter(test_data, test_labels, c='g', s=4, label='Test data')\n",
        "\n",
        "  if prediction is not None:\n",
        "    plt.scatter(test_data, prediction, c='r', s=4, label='Predictions')\n",
        "\n",
        "  plt.legend(prop={'size':14})\n",
        "plot_prediction()"
      ],
      "metadata": {
        "colab": {
          "base_uri": "https://localhost:8080/",
          "height": 599
        },
        "id": "-W9uqm9hybX_",
        "outputId": "440ee41d-5d86-4c05-9223-5a31d59e09a1"
      },
      "execution_count": null,
      "outputs": [
        {
          "output_type": "display_data",
          "data": {
            "text/plain": [
              "<Figure size 1000x700 with 1 Axes>"
            ],
            "image/png": "[encoded data removed]"
          },
          "metadata": {}
        }
      ]
    },
    {
      "cell_type": "markdown",
      "source": [
        "## Creating model class"
      ],
      "metadata": {
        "id": "PV4k22Oc5HZN"
      }
    },
    {
      "cell_type": "code",
      "source": [
        "#create a Linear Regression model class\n",
        "class LinearRegressionModel(nn.Module):\n",
        "  def __init__(self):\n",
        "    super().__init__()\n",
        "\n",
        "    self.weight = nn.Parameter(torch.randn(1, dtype= torch.float), requires_grad=True)\n",
        "    self.bias = nn.Parameter(torch.randn(1, dtype= torch.float), requires_grad=True)\n",
        "\n",
        "#forward defines the computation in the model\n",
        "  def forward(self,X:torch.tensor) -> torch.Tensor:\n",
        "    return self.weight * X + self.bias"
      ],
      "metadata": {
        "id": "-s-sSIuK38dC"
      },
      "execution_count": null,
      "outputs": []
    },
    {
      "cell_type": "markdown",
      "source": [
        "## Check randomly initialized values"
      ],
      "metadata": {
        "id": "qYN0p6d66gyn"
      }
    },
    {
      "cell_type": "code",
      "source": [
        "#set manual seed since nn.Parameter are randomly initialized\n",
        "torch.manual_seed(42)\n",
        "\n",
        "#create an instance of the model (This is a subclass of nn.Module that contains nn.Parameter)\n",
        "model_0 = LinearRegressionModel()\n",
        "\n",
        "#check the nn.Parameter(s) within the nn.Module subclass we created\n",
        "list(model_0.parameters())"
      ],
      "metadata": {
        "colab": {
          "base_uri": "https://localhost:8080/"
        },
        "id": "uyth_K6l6faa",
        "outputId": "44a05946-eb89-4186-d910-d9abfd864454"
      },
      "execution_count": null,
      "outputs": [
        {
          "output_type": "execute_result",
          "data": {
            "text/plain": [
              "[Parameter containing:\n",
              " tensor([0.3367], requires_grad=True),\n",
              " Parameter containing:\n",
              " tensor([0.1288], requires_grad=True)]"
            ]
          },
          "metadata": {},
          "execution_count": 139
        }
      ]
    },
    {
      "cell_type": "code",
      "source": [
        "model_0.state_dict()"
      ],
      "metadata": {
        "colab": {
          "base_uri": "https://localhost:8080/"
        },
        "id": "P789nk3gOiZY",
        "outputId": "c134729f-ea62-43d4-8b5d-d5fbf6eb3972"
      },
      "execution_count": null,
      "outputs": [
        {
          "output_type": "execute_result",
          "data": {
            "text/plain": [
              "OrderedDict([('weight', tensor([0.3367])), ('bias', tensor([0.1288]))])"
            ]
          },
          "metadata": {},
          "execution_count": 140
        }
      ]
    },
    {
      "cell_type": "markdown",
      "source": [
        "## Making prediction"
      ],
      "metadata": {
        "id": "AFCltaDNOKrL"
      }
    },
    {
      "cell_type": "code",
      "source": [
        "with torch.inference_mode():\n",
        "  y_pred = model_0(X_test)\n",
        "\n",
        "print(f\"no of testing samples:{len(X_test)}\")\n",
        "print(f\"no of prediction mode:{len(y_test)}\")\n",
        "print(f\"no of prediction values:{y_pred}\")"
      ],
      "metadata": {
        "colab": {
          "base_uri": "https://localhost:8080/"
        },
        "id": "oMp5kUve9RuP",
        "outputId": "993a0873-4aa8-4dbe-b135-6769b1900a0e"
      },
      "execution_count": null,
      "outputs": [
        {
          "output_type": "stream",
          "name": "stdout",
          "text": [
            "no of testing samples:10\n",
            "no of prediction mode:10\n",
            "no of prediction values:tensor([[0.3982],\n",
            "        [0.4049],\n",
            "        [0.4116],\n",
            "        [0.4184],\n",
            "        [0.4251],\n",
            "        [0.4318],\n",
            "        [0.4386],\n",
            "        [0.4453],\n",
            "        [0.4520],\n",
            "        [0.4588]])\n"
          ]
        }
      ]
    },
    {
      "cell_type": "markdown",
      "source": [
        "## Setup loss function and optimizer"
      ],
      "metadata": {
        "id": "RQesKmEhRI9A"
      }
    },
    {
      "cell_type": "code",
      "source": [
        "#create the loss function\n",
        "loss_fn = nn.L1Loss()\n",
        "\n",
        "#create the optimizer\n",
        "optimizer = torch.optim.SGD(params = model_0.parameters(), lr=0.01)"
      ],
      "metadata": {
        "id": "NiAvL4_nOswj"
      },
      "execution_count": null,
      "outputs": []
    },
    {
      "cell_type": "markdown",
      "source": [
        "## Creating trainig and testing loops"
      ],
      "metadata": {
        "id": "tjS67gSwSJLw"
      }
    },
    {
      "cell_type": "code",
      "source": [
        "torch.manual_seed(42)\n",
        "\n",
        "#set the no of epochs\n",
        "epochs = 1000\n",
        "\n",
        "#create empty loss lists to track values\n",
        "train_loss_values=[]\n",
        "test_loss_values=[]\n",
        "epochs_count = []\n",
        "\n",
        "for epochs in range(epochs):\n",
        "\n",
        "  #training\n",
        "\n",
        "  #put model in trainig mode\n",
        "  model_0.train()\n",
        "\n",
        "  #1.forwardd pass on the train data using the forward()\n",
        "  y_pred = model_0(X_train)\n",
        "\n",
        "  #2.calculate the loss\n",
        "  loss = loss_fn(y_pred,y_train)\n",
        "\n",
        "  #3.zero grad of the optimizer\n",
        "  optimizer.zero_grad()\n",
        "\n",
        "  #4.loss backward()\n",
        "  loss.backward()\n",
        "\n",
        "  #5.progress the optimizer\n",
        "  optimizer.step()\n",
        "\n",
        "  #testing\n",
        "\n",
        "  model_0.eval()\n",
        "\n",
        "  with torch.inference_mode():\n",
        "    #1.forward pass on test data\n",
        "    test_pred = model_0(X_test)\n",
        "\n",
        "    #2.calculate the loss on test data\n",
        "    test_loss = loss_fn(test_pred,y_test.type(torch.float))\n",
        "\n",
        "    #print out the status\n",
        "    if epochs %10 == 0:\n",
        "      epochs_count.append(epochs)\n",
        "      train_loss_values.append(loss.detach().numpy())\n",
        "      test_loss_values.append(test_loss.detach().numpy())\n",
        "      print(f'epoch:{epochs} | MAE train loss: {loss} | MAE test loss:{test_loss}')"
      ],
      "metadata": {
        "colab": {
          "base_uri": "https://localhost:8080/"
        },
        "id": "IOBnE1q-SAVW",
        "outputId": "569d6e37-9b95-4b53-8322-271a94117a25"
      },
      "execution_count": null,
      "outputs": [
        {
          "output_type": "stream",
          "name": "stdout",
          "text": [
            "epoch:0 | MAE train loss: 0.31288138031959534 | MAE test loss:0.48106518387794495\n",
            "epoch:10 | MAE train loss: 0.1976713240146637 | MAE test loss:0.3463551998138428\n",
            "epoch:20 | MAE train loss: 0.08908725529909134 | MAE test loss:0.21729660034179688\n",
            "epoch:30 | MAE train loss: 0.053148526698350906 | MAE test loss:0.14464017748832703\n",
            "epoch:40 | MAE train loss: 0.04543796554207802 | MAE test loss:0.11360953003168106\n",
            "epoch:50 | MAE train loss: 0.04167863354086876 | MAE test loss:0.09919948130846024\n",
            "epoch:60 | MAE train loss: 0.03818932920694351 | MAE test loss:0.08886633068323135\n",
            "epoch:70 | MAE train loss: 0.03476089984178543 | MAE test loss:0.0805937647819519\n",
            "epoch:80 | MAE train loss: 0.03132382780313492 | MAE test loss:0.07232122868299484\n",
            "epoch:90 | MAE train loss: 0.02788739837706089 | MAE test loss:0.06473556160926819\n",
            "epoch:100 | MAE train loss: 0.024458957836031914 | MAE test loss:0.05646304413676262\n",
            "epoch:110 | MAE train loss: 0.021020207554101944 | MAE test loss:0.04819049686193466\n",
            "epoch:120 | MAE train loss: 0.01758546568453312 | MAE test loss:0.04060482233762741\n",
            "epoch:130 | MAE train loss: 0.014155393466353416 | MAE test loss:0.03233227878808975\n",
            "epoch:140 | MAE train loss: 0.010716589167714119 | MAE test loss:0.024059748277068138\n",
            "epoch:150 | MAE train loss: 0.0072835334576666355 | MAE test loss:0.016474086791276932\n",
            "epoch:160 | MAE train loss: 0.0038517764769494534 | MAE test loss:0.008201557211577892\n",
            "epoch:170 | MAE train loss: 0.008932482451200485 | MAE test loss:0.005023092031478882\n",
            "epoch:180 | MAE train loss: 0.008932482451200485 | MAE test loss:0.005023092031478882\n",
            "epoch:190 | MAE train loss: 0.008932482451200485 | MAE test loss:0.005023092031478882\n",
            "epoch:200 | MAE train loss: 0.008932482451200485 | MAE test loss:0.005023092031478882\n",
            "epoch:210 | MAE train loss: 0.008932482451200485 | MAE test loss:0.005023092031478882\n",
            "epoch:220 | MAE train loss: 0.008932482451200485 | MAE test loss:0.005023092031478882\n",
            "epoch:230 | MAE train loss: 0.008932482451200485 | MAE test loss:0.005023092031478882\n",
            "epoch:240 | MAE train loss: 0.008932482451200485 | MAE test loss:0.005023092031478882\n",
            "epoch:250 | MAE train loss: 0.008932482451200485 | MAE test loss:0.005023092031478882\n",
            "epoch:260 | MAE train loss: 0.008932482451200485 | MAE test loss:0.005023092031478882\n",
            "epoch:270 | MAE train loss: 0.008932482451200485 | MAE test loss:0.005023092031478882\n",
            "epoch:280 | MAE train loss: 0.008932482451200485 | MAE test loss:0.005023092031478882\n",
            "epoch:290 | MAE train loss: 0.008932482451200485 | MAE test loss:0.005023092031478882\n",
            "epoch:300 | MAE train loss: 0.008932482451200485 | MAE test loss:0.005023092031478882\n",
            "epoch:310 | MAE train loss: 0.008932482451200485 | MAE test loss:0.005023092031478882\n",
            "epoch:320 | MAE train loss: 0.008932482451200485 | MAE test loss:0.005023092031478882\n",
            "epoch:330 | MAE train loss: 0.008932482451200485 | MAE test loss:0.005023092031478882\n",
            "epoch:340 | MAE train loss: 0.008932482451200485 | MAE test loss:0.005023092031478882\n",
            "epoch:350 | MAE train loss: 0.008932482451200485 | MAE test loss:0.005023092031478882\n",
            "epoch:360 | MAE train loss: 0.008932482451200485 | MAE test loss:0.005023092031478882\n",
            "epoch:370 | MAE train loss: 0.008932482451200485 | MAE test loss:0.005023092031478882\n",
            "epoch:380 | MAE train loss: 0.008932482451200485 | MAE test loss:0.005023092031478882\n",
            "epoch:390 | MAE train loss: 0.008932482451200485 | MAE test loss:0.005023092031478882\n",
            "epoch:400 | MAE train loss: 0.008932482451200485 | MAE test loss:0.005023092031478882\n",
            "epoch:410 | MAE train loss: 0.008932482451200485 | MAE test loss:0.005023092031478882\n",
            "epoch:420 | MAE train loss: 0.008932482451200485 | MAE test loss:0.005023092031478882\n",
            "epoch:430 | MAE train loss: 0.008932482451200485 | MAE test loss:0.005023092031478882\n",
            "epoch:440 | MAE train loss: 0.008932482451200485 | MAE test loss:0.005023092031478882\n",
            "epoch:450 | MAE train loss: 0.008932482451200485 | MAE test loss:0.005023092031478882\n",
            "epoch:460 | MAE train loss: 0.008932482451200485 | MAE test loss:0.005023092031478882\n",
            "epoch:470 | MAE train loss: 0.008932482451200485 | MAE test loss:0.005023092031478882\n",
            "epoch:480 | MAE train loss: 0.008932482451200485 | MAE test loss:0.005023092031478882\n",
            "epoch:490 | MAE train loss: 0.008932482451200485 | MAE test loss:0.005023092031478882\n",
            "epoch:500 | MAE train loss: 0.008932482451200485 | MAE test loss:0.005023092031478882\n",
            "epoch:510 | MAE train loss: 0.008932482451200485 | MAE test loss:0.005023092031478882\n",
            "epoch:520 | MAE train loss: 0.008932482451200485 | MAE test loss:0.005023092031478882\n",
            "epoch:530 | MAE train loss: 0.008932482451200485 | MAE test loss:0.005023092031478882\n",
            "epoch:540 | MAE train loss: 0.008932482451200485 | MAE test loss:0.005023092031478882\n",
            "epoch:550 | MAE train loss: 0.008932482451200485 | MAE test loss:0.005023092031478882\n",
            "epoch:560 | MAE train loss: 0.008932482451200485 | MAE test loss:0.005023092031478882\n",
            "epoch:570 | MAE train loss: 0.008932482451200485 | MAE test loss:0.005023092031478882\n",
            "epoch:580 | MAE train loss: 0.008932482451200485 | MAE test loss:0.005023092031478882\n",
            "epoch:590 | MAE train loss: 0.008932482451200485 | MAE test loss:0.005023092031478882\n",
            "epoch:600 | MAE train loss: 0.008932482451200485 | MAE test loss:0.005023092031478882\n",
            "epoch:610 | MAE train loss: 0.008932482451200485 | MAE test loss:0.005023092031478882\n",
            "epoch:620 | MAE train loss: 0.008932482451200485 | MAE test loss:0.005023092031478882\n",
            "epoch:630 | MAE train loss: 0.008932482451200485 | MAE test loss:0.005023092031478882\n",
            "epoch:640 | MAE train loss: 0.008932482451200485 | MAE test loss:0.005023092031478882\n",
            "epoch:650 | MAE train loss: 0.008932482451200485 | MAE test loss:0.005023092031478882\n",
            "epoch:660 | MAE train loss: 0.008932482451200485 | MAE test loss:0.005023092031478882\n",
            "epoch:670 | MAE train loss: 0.008932482451200485 | MAE test loss:0.005023092031478882\n",
            "epoch:680 | MAE train loss: 0.008932482451200485 | MAE test loss:0.005023092031478882\n",
            "epoch:690 | MAE train loss: 0.008932482451200485 | MAE test loss:0.005023092031478882\n",
            "epoch:700 | MAE train loss: 0.008932482451200485 | MAE test loss:0.005023092031478882\n",
            "epoch:710 | MAE train loss: 0.008932482451200485 | MAE test loss:0.005023092031478882\n",
            "epoch:720 | MAE train loss: 0.008932482451200485 | MAE test loss:0.005023092031478882\n",
            "epoch:730 | MAE train loss: 0.008932482451200485 | MAE test loss:0.005023092031478882\n",
            "epoch:740 | MAE train loss: 0.008932482451200485 | MAE test loss:0.005023092031478882\n",
            "epoch:750 | MAE train loss: 0.008932482451200485 | MAE test loss:0.005023092031478882\n",
            "epoch:760 | MAE train loss: 0.008932482451200485 | MAE test loss:0.005023092031478882\n",
            "epoch:770 | MAE train loss: 0.008932482451200485 | MAE test loss:0.005023092031478882\n",
            "epoch:780 | MAE train loss: 0.008932482451200485 | MAE test loss:0.005023092031478882\n",
            "epoch:790 | MAE train loss: 0.008932482451200485 | MAE test loss:0.005023092031478882\n",
            "epoch:800 | MAE train loss: 0.008932482451200485 | MAE test loss:0.005023092031478882\n",
            "epoch:810 | MAE train loss: 0.008932482451200485 | MAE test loss:0.005023092031478882\n",
            "epoch:820 | MAE train loss: 0.008932482451200485 | MAE test loss:0.005023092031478882\n",
            "epoch:830 | MAE train loss: 0.008932482451200485 | MAE test loss:0.005023092031478882\n",
            "epoch:840 | MAE train loss: 0.008932482451200485 | MAE test loss:0.005023092031478882\n",
            "epoch:850 | MAE train loss: 0.008932482451200485 | MAE test loss:0.005023092031478882\n",
            "epoch:860 | MAE train loss: 0.008932482451200485 | MAE test loss:0.005023092031478882\n",
            "epoch:870 | MAE train loss: 0.008932482451200485 | MAE test loss:0.005023092031478882\n",
            "epoch:880 | MAE train loss: 0.008932482451200485 | MAE test loss:0.005023092031478882\n",
            "epoch:890 | MAE train loss: 0.008932482451200485 | MAE test loss:0.005023092031478882\n",
            "epoch:900 | MAE train loss: 0.008932482451200485 | MAE test loss:0.005023092031478882\n",
            "epoch:910 | MAE train loss: 0.008932482451200485 | MAE test loss:0.005023092031478882\n",
            "epoch:920 | MAE train loss: 0.008932482451200485 | MAE test loss:0.005023092031478882\n",
            "epoch:930 | MAE train loss: 0.008932482451200485 | MAE test loss:0.005023092031478882\n",
            "epoch:940 | MAE train loss: 0.008932482451200485 | MAE test loss:0.005023092031478882\n",
            "epoch:950 | MAE train loss: 0.008932482451200485 | MAE test loss:0.005023092031478882\n",
            "epoch:960 | MAE train loss: 0.008932482451200485 | MAE test loss:0.005023092031478882\n",
            "epoch:970 | MAE train loss: 0.008932482451200485 | MAE test loss:0.005023092031478882\n",
            "epoch:980 | MAE train loss: 0.008932482451200485 | MAE test loss:0.005023092031478882\n",
            "epoch:990 | MAE train loss: 0.008932482451200485 | MAE test loss:0.005023092031478882\n"
          ]
        }
      ]
    },
    {
      "cell_type": "code",
      "source": [
        "plt.plot(epochs_count, train_loss_values, label='train loss')\n",
        "plt.plot(epochs_count, test_loss_values, label='test loss')\n",
        "plt.title('training and loss curves')\n",
        "plt.ylabel('loss')\n",
        "plt.xlabel('epochs')\n",
        "plt.legend();"
      ],
      "metadata": {
        "colab": {
          "base_uri": "https://localhost:8080/",
          "height": 472
        },
        "id": "jjXFTphcbau8",
        "outputId": "b0e4bd29-913c-4115-feab-6c69dc30aaec"
      },
      "execution_count": null,
      "outputs": [
        {
          "output_type": "display_data",
          "data": {
            "text/plain": [
              "<Figure size 640x480 with 1 Axes>"
            ],
            "image/png": "[encoded data removed]"
          },
          "metadata": {}
        }
      ]
    },
    {
      "cell_type": "code",
      "source": [
        "# find our  model's learned parameters\n",
        "print('the model learned following values for weights and bias:')\n",
        "print(model_0.state_dict())\n",
        "print('\\nAnd original values for weights and bias are:')\n",
        "print(f'weights:{weight}, bias:{bias}')"
      ],
      "metadata": {
        "colab": {
          "base_uri": "https://localhost:8080/"
        },
        "id": "dRERgnIbdWyy",
        "outputId": "255b56c8-52ed-4ddf-f6a5-c35d496e67e0"
      },
      "execution_count": null,
      "outputs": [
        {
          "output_type": "stream",
          "name": "stdout",
          "text": [
            "the model learned following values for weights and bias:\n",
            "OrderedDict([('weight', tensor([0.6990])), ('bias', tensor([0.3093]))])\n",
            "\n",
            "And original values for weights and bias are:\n",
            "weights:0.7, bias:0.3\n"
          ]
        }
      ]
    },
    {
      "cell_type": "markdown",
      "source": [
        "## Making prediction"
      ],
      "metadata": {
        "id": "yOYMW0waflSk"
      }
    },
    {
      "cell_type": "code",
      "source": [
        "model_0.eval()\n",
        "\n",
        "with torch.inference_mode():\n",
        "  y_preds = model_0(X_test)\n",
        "y_preds"
      ],
      "metadata": {
        "colab": {
          "base_uri": "https://localhost:8080/"
        },
        "id": "GnCkxJoifgda",
        "outputId": "96dc1502-f3ea-410d-d0e8-2bd79e2c5a15"
      },
      "execution_count": null,
      "outputs": [
        {
          "output_type": "execute_result",
          "data": {
            "text/plain": [
              "tensor([[0.8685],\n",
              "        [0.8825],\n",
              "        [0.8965],\n",
              "        [0.9105],\n",
              "        [0.9245],\n",
              "        [0.9384],\n",
              "        [0.9524],\n",
              "        [0.9664],\n",
              "        [0.9804],\n",
              "        [0.9944]])"
            ]
          },
          "metadata": {},
          "execution_count": 146
        }
      ]
    },
    {
      "cell_type": "code",
      "source": [
        "plot_prediction(prediction=y_preds)"
      ],
      "metadata": {
        "colab": {
          "base_uri": "https://localhost:8080/",
          "height": 599
        },
        "id": "TzZPJR4EgCLv",
        "outputId": "53560bac-5b91-4bfa-94e0-8d3abd667fa9"
      },
      "execution_count": null,
      "outputs": [
        {
          "output_type": "display_data",
          "data": {
            "text/plain": [
              "<Figure size 1000x700 with 1 Axes>"
            ],
            "image/png": "[encoded data removed]"
          },
          "metadata": {}
        }
      ]
    },
    {
      "cell_type": "markdown",
      "source": [
        "##save dataset"
      ],
      "metadata": {
        "id": "O5rj4tYtljgO"
      }
    },
    {
      "cell_type": "code",
      "source": [
        "from pathlib import Path\n",
        "\n",
        "#1.create model dictionary\n",
        "MODEL_PATH = Path('models')\n",
        "MODEL_PATH.mkdir(parents=True, exist_ok=True)\n",
        "\n",
        "#2. create model save path\n",
        "MODEL_NAME = '01_pytorch_worckflow_model_0.pth'\n",
        "MODEL_SAVE_PATH = MODEL_PATH/ MODEL_NAME\n",
        "\n",
        "#3. save the model state dict\n",
        "print(f'saving model to:{MODEL_SAVE_PATH}')\n",
        "torch.save(obj= model_0.state_dict(),f= MODEL_SAVE_PATH)"
      ],
      "metadata": {
        "colab": {
          "base_uri": "https://localhost:8080/"
        },
        "id": "xzVx1DxYg-ZY",
        "outputId": "c9fd303f-5823-4fd7-f6d4-6318b66e68b5"
      },
      "execution_count": null,
      "outputs": [
        {
          "output_type": "stream",
          "name": "stdout",
          "text": [
            "saving model to:models/01_pytorch_worckflow_model_0.pth\n"
          ]
        }
      ]
    },
    {
      "cell_type": "markdown",
      "source": [
        "## import *dataset*"
      ],
      "metadata": {
        "id": "HqsJ7cVTlqKQ"
      }
    },
    {
      "cell_type": "code",
      "source": [
        "#instantiates a new instance of our model\n",
        "loaded_model_0 = LinearRegressionModel()\n",
        "\n",
        "#load the state_dict of our saved model\n",
        "loaded_model_0.load_state_dict(torch.load(f=MODEL_SAVE_PATH))"
      ],
      "metadata": {
        "colab": {
          "base_uri": "https://localhost:8080/"
        },
        "id": "xDo5X2J7ka4l",
        "outputId": "7e94deb9-7a05-43e8-d314-1e464ce19236"
      },
      "execution_count": null,
      "outputs": [
        {
          "output_type": "execute_result",
          "data": {
            "text/plain": [
              "<All keys matched successfully>"
            ]
          },
          "metadata": {},
          "execution_count": 152
        }
      ]
    },
    {
      "cell_type": "code",
      "source": [
        "#1. put the loaded model into evaluation mode\n",
        "loaded_model_0.eval()\n",
        "\n",
        "#2. use the inferecnce mode context manager to make predictions\n",
        "with torch.inference_mode():\n",
        "  loaded_model_preds = loaded_model_0(X_test)"
      ],
      "metadata": {
        "id": "guz3UpkBlZAB"
      },
      "execution_count": null,
      "outputs": []
    },
    {
      "cell_type": "code",
      "source": [
        "#compare previous model predictions with loaded model prediction\n",
        "y_preds == loaded_model_preds"
      ],
      "metadata": {
        "colab": {
          "base_uri": "https://localhost:8080/"
        },
        "id": "sL0GH9iOmZn1",
        "outputId": "675945a2-9bcf-4d74-edb2-f41a381f3df5"
      },
      "execution_count": null,
      "outputs": [
        {
          "output_type": "execute_result",
          "data": {
            "text/plain": [
              "tensor([[True],\n",
              "        [True],\n",
              "        [True],\n",
              "        [True],\n",
              "        [True],\n",
              "        [True],\n",
              "        [True],\n",
              "        [True],\n",
              "        [True],\n",
              "        [True]])"
            ]
          },
          "metadata": {},
          "execution_count": 154
        }
      ]
    },
    {
      "cell_type": "code",
      "source": [],
      "metadata": {
        "id": "gGjS3ITymrkK"
      },
      "execution_count": null,
      "outputs": []
    }
  ]
}